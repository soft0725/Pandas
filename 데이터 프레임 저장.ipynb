{
 "cells": [
  {
   "cell_type": "code",
   "execution_count": 1,
   "id": "f5dcae86",
   "metadata": {},
   "outputs": [],
   "source": [
    "import pandas as pd"
   ]
  },
  {
   "cell_type": "code",
   "execution_count": 2,
   "id": "3ee646fc",
   "metadata": {},
   "outputs": [],
   "source": [
    "friend_dict = [\n",
    "    {'name' : 'Chan', 'age' : 17, 'job' : 'stu'},\n",
    "    {'name' : 'Hong', 'age' : 20, 'job' : 'tea'}\n",
    "]"
   ]
  },
  {
   "cell_type": "code",
   "execution_count": 3,
   "id": "9c576fb0",
   "metadata": {},
   "outputs": [],
   "source": [
    "df = pd.DataFrame(friend_dict)"
   ]
  },
  {
   "cell_type": "code",
   "execution_count": 4,
   "id": "f75953fb",
   "metadata": {},
   "outputs": [],
   "source": [
    "df.to_csv('info.csv')"
   ]
  },
  {
   "attachments": {
    "image.png": {
     "image/png": "[encoded data removed]"
    }
   },
   "cell_type": "markdown",
   "id": "48e85be6",
   "metadata": {},
   "source": [
    "![image.png](attachment:image.png)"
   ]
  },
  {
   "cell_type": "markdown",
   "id": "a53dfa08",
   "metadata": {},
   "source": [
    "이렇게 나오게 된다."
   ]
  },
  {
   "cell_type": "markdown",
   "id": "a501f725",
   "metadata": {},
   "source": [
    "그리고 원래는 to_csv에 index = True, header = True 가 기본 값 이다."
   ]
  },
  {
   "cell_type": "markdown",
   "id": "652d81fe",
   "metadata": {},
   "source": [
    "그럼 저걸 수정해보자"
   ]
  },
  {
   "cell_type": "code",
   "execution_count": 7,
   "id": "55b3c2c3",
   "metadata": {},
   "outputs": [],
   "source": [
    "df.to_csv('info.csv', index = False, header = True)"
   ]
  },
  {
   "attachments": {
    "image.png": {
     "image/png": "[encoded data removed]"
    }
   },
   "cell_type": "markdown",
   "id": "de6ef42d",
   "metadata": {},
   "source": [
    "![image.png](attachment:image.png)\n"
   ]
  },
  {
   "cell_type": "code",
   "execution_count": 8,
   "id": "18f15a7e",
   "metadata": {},
   "outputs": [],
   "source": [
    "df.to_csv('info.csv', index = True, header = False)"
   ]
  },
  {
   "attachments": {
    "image.png": {
     "image/png": "[encoded data removed]"
    }
   },
   "cell_type": "markdown",
   "id": "fb8383f4",
   "metadata": {},
   "source": [
    "![image.png](attachment:image.png)"
   ]
  },
  {
   "cell_type": "code",
   "execution_count": 9,
   "id": "826375b4",
   "metadata": {},
   "outputs": [],
   "source": [
    "df.to_csv('info.csv', index = False, header = False)"
   ]
  },
  {
   "attachments": {
    "image.png": {
     "image/png": "[encoded data removed]"
    }
   },
   "cell_type": "markdown",
   "id": "72ae2672",
   "metadata": {},
   "source": [
    "![image.png](attachment:image.png)"
   ]
  },
  {
   "cell_type": "markdown",
   "id": "74968992",
   "metadata": {},
   "source": [
    "그리고 None 값을 따로 채워줄 수 있다.  \n",
    "지금 내가 만든 df는 None 값이 없기에 수정을 해주겠다."
   ]
  },
  {
   "cell_type": "code",
   "execution_count": 10,
   "id": "5b6c150a",
   "metadata": {},
   "outputs": [],
   "source": [
    "friend_dict = [\n",
    "    {'name' : 'Chan', 'age' : 17, 'job' : 'stu'},\n",
    "    {'name' : 'Hong', 'age' : 20, 'job' : 'tea'},\n",
    "    {'name' : 'None', 'age' : 21, 'job' : 'None'}\n",
    "]"
   ]
  },
  {
   "cell_type": "code",
   "execution_count": 11,
   "id": "53194f28",
   "metadata": {},
   "outputs": [],
   "source": [
    "df = pd.DataFrame.from_dict(friend_dict)"
   ]
  },
  {
   "cell_type": "code",
   "execution_count": 12,
   "id": "2de9d04e",
   "metadata": {},
   "outputs": [
    {
     "data": {
      "text/html": [
       "<div>\n",
       "<style scoped>\n",
       "    .dataframe tbody tr th:only-of-type {\n",
       "        vertical-align: middle;\n",
       "    }\n",
       "\n",
       "    .dataframe tbody tr th {\n",
       "        vertical-align: top;\n",
       "    }\n",
       "\n",
       "    .dataframe thead th {\n",
       "        text-align: right;\n",
       "    }\n",
       "</style>\n",
       "<table border=\"1\" class=\"dataframe\">\n",
       "  <thead>\n",
       "    <tr style=\"text-align: right;\">\n",
       "      <th></th>\n",
       "      <th>name</th>\n",
       "      <th>age</th>\n",
       "      <th>job</th>\n",
       "    </tr>\n",
       "  </thead>\n",
       "  <tbody>\n",
       "    <tr>\n",
       "      <th>0</th>\n",
       "      <td>Chan</td>\n",
       "      <td>17</td>\n",
       "      <td>stu</td>\n",
       "    </tr>\n",
       "    <tr>\n",
       "      <th>1</th>\n",
       "      <td>Hong</td>\n",
       "      <td>20</td>\n",
       "      <td>tea</td>\n",
       "    </tr>\n",
       "    <tr>\n",
       "      <th>2</th>\n",
       "      <td>None</td>\n",
       "      <td>21</td>\n",
       "      <td>None</td>\n",
       "    </tr>\n",
       "  </tbody>\n",
       "</table>\n",
       "</div>"
      ],
      "text/plain": [
       "   name  age   job\n",
       "0  Chan   17   stu\n",
       "1  Hong   20   tea\n",
       "2  None   21  None"
      ]
     },
     "execution_count": 12,
     "metadata": {},
     "output_type": "execute_result"
    }
   ],
   "source": [
    "df"
   ]
  },
  {
   "cell_type": "code",
   "execution_count": 21,
   "id": "81962f03",
   "metadata": {},
   "outputs": [],
   "source": [
    "df.to_csv('info.csv', index = False, header = False, na_rep = '-')"
   ]
  },
  {
   "cell_type": "markdown",
   "id": "0f256c4e",
   "metadata": {},
   "source": [
    "na_rep는 None 값을 ' ' 안의 값으로 바꾸어서 csv파일로 저장하여 준다."
   ]
  },
  {
   "attachments": {
    "image.png": {
     "image/png": "[encoded data removed]"
    }
   },
   "cell_type": "markdown",
   "id": "cd66cc8f",
   "metadata": {},
   "source": [
    "![image.png](attachment:image.png)"
   ]
  }
 ],
 "metadata": {
  "kernelspec": {
   "display_name": "Python 3 (ipykernel)",
   "language": "python",
   "name": "python3"
  },
  "language_info": {
   "codemirror_mode": {
    "name": "ipython",
    "version": 3
   },
   "file_extension": ".py",
   "mimetype": "text/x-python",
   "name": "python",
   "nbconvert_exporter": "python",
   "pygments_lexer": "ipython3",
   "version": "3.9.12"
  }
 },
 "nbformat": 4,
 "nbformat_minor": 5
}
